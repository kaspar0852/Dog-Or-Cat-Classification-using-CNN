{
 "cells": [
  {
   "cell_type": "code",
   "execution_count": 2,
   "id": "6560c794",
   "metadata": {},
   "outputs": [],
   "source": [
    "import pandas as pd\n",
    "import tensorflow as tf\n",
    "import numpy as np\n",
    "from keras.preprocessing.image import ImageDataGenerator"
   ]
  },
  {
   "cell_type": "markdown",
   "id": "34d577ab",
   "metadata": {},
   "source": [
    "# Data PreProcessing"
   ]
  },
  {
   "cell_type": "code",
   "execution_count": 3,
   "id": "56380cdb",
   "metadata": {},
   "outputs": [],
   "source": [
    "#Image Processing\n",
    "#We want to apply some transformations on the images on the traing set\n",
    "#we will not apply it on the test set\n",
    "#we are applying transformations on the image on training set because to avoid overfilling\n",
    "#In computer vision the way to avoid overfilling is to apply transformations"
   ]
  },
  {
   "cell_type": "code",
   "execution_count": 4,
   "id": "d1db61a6",
   "metadata": {},
   "outputs": [],
   "source": [
    "#What are these transformations?\n",
    "#these transformations are some simple geometrical transformations or some zooms or some rotations on-\n",
    "#-our images\n",
    "#so we are going to apply some geometrical transformations to shift some of the pixel,\n",
    "#we are going to do some horizontal flips some zoomouts/zoomins\n",
    "#so we are going to do different transformations and modify the images to get it agumented\n",
    "#SO THE TECHNICAL TERM FOR DOING ALL THIS IS CALLED \"IMAGE AUGMENTATION\"\n",
    "#which consit of transforming the images on our training set so that our CNN model doesnot overtrain-\n",
    "#-in our exsisting images"
   ]
  },
  {
   "cell_type": "code",
   "execution_count": null,
   "id": "cbac9b4e",
   "metadata": {},
   "outputs": [],
   "source": [
    "#PreProcessing the Trainig Set"
   ]
  },
  {
   "cell_type": "code",
   "execution_count": 5,
   "id": "8a269a99",
   "metadata": {},
   "outputs": [
    {
     "name": "stdout",
     "output_type": "stream",
     "text": [
      "Found 8000 images belonging to 2 classes.\n"
     ]
    }
   ],
   "source": [
    "train_datagen = ImageDataGenerator(\n",
    "        rescale=1./255,\n",
    "        shear_range=0.2,\n",
    "        zoom_range=0.2,\n",
    "        horizontal_flip=True)\n",
    "#connecting our train_datagen with training set,so that it can generate all the image in training_Set\n",
    "training_set = train_datagen.flow_from_directory(\n",
    "        'dataset/training_set',\n",
    "        target_size=(64, 64),\n",
    "        batch_size=32,\n",
    "        class_mode='binary')"
   ]
  },
  {
   "cell_type": "code",
   "execution_count": 6,
   "id": "b4fd496f",
   "metadata": {},
   "outputs": [],
   "source": [
    "#PreProcessing the test set"
   ]
  },
  {
   "cell_type": "code",
   "execution_count": 7,
   "id": "73198a6c",
   "metadata": {},
   "outputs": [],
   "source": [
    "#we are not going to apply same classifications as train_datagen such as zoom_range_shear_range-\n",
    "#-because we dont want to touch the test images. However we have to feature scale them like shown below"
   ]
  },
  {
   "cell_type": "code",
   "execution_count": 8,
   "id": "c713e7d9",
   "metadata": {},
   "outputs": [
    {
     "name": "stdout",
     "output_type": "stream",
     "text": [
      "Found 2000 images belonging to 2 classes.\n"
     ]
    }
   ],
   "source": [
    "test_datagen = ImageDataGenerator(rescale=1./255) \n",
    "#connecting our test_datagen with the test_set\n",
    "test_set = test_datagen.flow_from_directory(\n",
    "        'dataset/test_set',\n",
    "        target_size=(64, 64), #we need to give same size as training set\n",
    "        batch_size=32,\n",
    "        class_mode='binary')"
   ]
  },
  {
   "cell_type": "markdown",
   "id": "e34c641d",
   "metadata": {},
   "source": [
    "# Building The CNN"
   ]
  },
  {
   "cell_type": "code",
   "execution_count": null,
   "id": "49b999e2",
   "metadata": {},
   "outputs": [],
   "source": []
  }
 ],
 "metadata": {
  "kernelspec": {
   "display_name": "Python 3 (ipykernel)",
   "language": "python",
   "name": "python3"
  },
  "language_info": {
   "codemirror_mode": {
    "name": "ipython",
    "version": 3
   },
   "file_extension": ".py",
   "mimetype": "text/x-python",
   "name": "python",
   "nbconvert_exporter": "python",
   "pygments_lexer": "ipython3",
   "version": "3.9.7"
  }
 },
 "nbformat": 4,
 "nbformat_minor": 5
}
