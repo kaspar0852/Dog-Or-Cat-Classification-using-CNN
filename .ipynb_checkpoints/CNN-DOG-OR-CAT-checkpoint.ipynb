{
 "cells": [
  {
   "cell_type": "code",
   "execution_count": 1,
   "id": "6560c794",
   "metadata": {},
   "outputs": [],
   "source": [
    "import pandas as pd\n",
    "import tensorflow as tf\n",
    "import numpy as np\n",
    "from keras.preprocessing.image import ImageDataGenerator"
   ]
  },
  {
   "cell_type": "markdown",
   "id": "34d577ab",
   "metadata": {},
   "source": [
    "# Data PreProcessing"
   ]
  },
  {
   "cell_type": "code",
   "execution_count": 2,
   "id": "56380cdb",
   "metadata": {},
   "outputs": [],
   "source": [
    "#Image Processing\n",
    "#We want to apply some transformations on the images on the traing set\n",
    "#we will not apply it on the test set\n",
    "#we are applying transformations on the image on training set because to avoid overfilling\n",
    "#In computer vision the way to avoid overfilling is to apply transformations"
   ]
  },
  {
   "cell_type": "code",
   "execution_count": 3,
   "id": "d1db61a6",
   "metadata": {},
   "outputs": [],
   "source": [
    "#What are these transformations?\n",
    "#these transformations are some simple geometrical transformations or some zooms or some rotations on-\n",
    "#-our images\n",
    "#so we are going to apply some geometrical transformations to shift some of the pixel,\n",
    "#we are going to do some horizontal flips some zoomouts/zoomins\n",
    "#so we are going to do different transformations and modify the images to get it agumented\n",
    "#SO THE TECHNICAL TERM FOR DOING ALL THIS IS CALLED \"IMAGE AUGMENTATION\"\n",
    "#which consit of transforming the images on our training set so that our CNN model doesnot overtrain-\n",
    "#-in our exsisting images"
   ]
  },
  {
   "cell_type": "code",
   "execution_count": 4,
   "id": "cbac9b4e",
   "metadata": {},
   "outputs": [],
   "source": [
    "#PreProcessing the Trainig Set"
   ]
  },
  {
   "cell_type": "code",
   "execution_count": 5,
   "id": "8a269a99",
   "metadata": {},
   "outputs": [
    {
     "name": "stdout",
     "output_type": "stream",
     "text": [
      "Found 8000 images belonging to 2 classes.\n"
     ]
    }
   ],
   "source": [
    "train_datagen = ImageDataGenerator(\n",
    "        rescale=1./255,\n",
    "        shear_range=0.2,\n",
    "        zoom_range=0.2,\n",
    "        horizontal_flip=True)\n",
    "#connecting our train_datagen with training set,so that it can generate all the image in training_Set\n",
    "training_set = train_datagen.flow_from_directory(\n",
    "        'dataset/training_set',\n",
    "        target_size=(64, 64),\n",
    "        batch_size=32,\n",
    "        class_mode='binary')"
   ]
  },
  {
   "cell_type": "code",
   "execution_count": 6,
   "id": "b4fd496f",
   "metadata": {},
   "outputs": [],
   "source": [
    "#PreProcessing the test set"
   ]
  },
  {
   "cell_type": "code",
   "execution_count": 7,
   "id": "73198a6c",
   "metadata": {},
   "outputs": [],
   "source": [
    "#we are not going to apply same classifications as train_datagen such as zoom_range_shear_range-\n",
    "#-because we dont want to touch the test images. However we have to feature scale them like shown below"
   ]
  },
  {
   "cell_type": "code",
   "execution_count": 8,
   "id": "c713e7d9",
   "metadata": {},
   "outputs": [
    {
     "name": "stdout",
     "output_type": "stream",
     "text": [
      "Found 2000 images belonging to 2 classes.\n"
     ]
    }
   ],
   "source": [
    "test_datagen = ImageDataGenerator(rescale=1./255) \n",
    "#connecting our test_datagen with the test_set\n",
    "test_set = test_datagen.flow_from_directory(\n",
    "        'dataset/test_set',\n",
    "        target_size=(64, 64), #we need to give same size as training set\n",
    "        batch_size=32,\n",
    "        class_mode='binary')"
   ]
  },
  {
   "cell_type": "markdown",
   "id": "e34c641d",
   "metadata": {},
   "source": [
    "# Building The CNN"
   ]
  },
  {
   "cell_type": "code",
   "execution_count": null,
   "id": "64221671",
   "metadata": {},
   "outputs": [],
   "source": [
    "#Initializing CNN"
   ]
  },
  {
   "cell_type": "code",
   "execution_count": 9,
   "id": "49b999e2",
   "metadata": {},
   "outputs": [],
   "source": [
    "cnn = tf.keras.models.Sequential()\n"
   ]
  },
  {
   "cell_type": "code",
   "execution_count": 10,
   "id": "b9683aca",
   "metadata": {},
   "outputs": [],
   "source": [
    "# 1.Convolution"
   ]
  },
  {
   "cell_type": "code",
   "execution_count": null,
   "id": "22793e4f",
   "metadata": {},
   "outputs": [],
   "source": [
    "#in the Conv2D class we have to include 3 important parameters rest can be default\n",
    "# 1. filters->which are the number of feature detectors we want to apply to our images i.e to detect Features\n",
    "# 2. kernal_size->this is the size of the feature detectors num of rows and num of arrays\n",
    "#if we choose kernal_size 3 then this will give us the size of 3*3\n",
    "# 3. input_shape->we have to specify input shape of our inputs\n",
    "# here as we are working with colored images i.e rgb and target size is 64,64 so \n",
    "#input_shape=[64,64,3]"
   ]
  },
  {
   "cell_type": "code",
   "execution_count": 12,
   "id": "0624efb5",
   "metadata": {},
   "outputs": [],
   "source": [
    "cnn.add(tf.keras.layers.Conv2D(filters=32, kernel_size=3, activation='relu', input_shape=[64,64,3]))"
   ]
  },
  {
   "cell_type": "markdown",
   "id": "20aa0c9b",
   "metadata": {},
   "source": [
    "This adds convolution layer to our CNN"
   ]
  },
  {
   "cell_type": "code",
   "execution_count": 14,
   "id": "b513b497",
   "metadata": {},
   "outputs": [],
   "source": [
    "# 2.Pooling\n",
    "#we are going to add pooling layer to our Convolutional layer"
   ]
  },
  {
   "cell_type": "code",
   "execution_count": 17,
   "id": "b49ee127",
   "metadata": {},
   "outputs": [],
   "source": [
    "cnn.add(tf.keras.layers.MaxPool2D(pool_size=2, strides=2))"
   ]
  },
  {
   "cell_type": "code",
   "execution_count": 18,
   "id": "aeae88e8",
   "metadata": {},
   "outputs": [],
   "source": [
    "#Adding a second Convolution Layer\n",
    "#input shape is written in the very first layer only"
   ]
  },
  {
   "cell_type": "code",
   "execution_count": 19,
   "id": "343ad46d",
   "metadata": {},
   "outputs": [],
   "source": [
    "cnn.add(tf.keras.layers.Conv2D(filters=32, kernel_size=3, activation='relu'))\n",
    "cnn.add(tf.keras.layers.MaxPool2D(pool_size=2, strides=2))"
   ]
  },
  {
   "cell_type": "markdown",
   "id": "7d238ad2",
   "metadata": {},
   "source": [
    "This will add second convolution layer with max pooling applied"
   ]
  },
  {
   "cell_type": "code",
   "execution_count": 20,
   "id": "f441cfb8",
   "metadata": {},
   "outputs": [],
   "source": [
    "#3 . Flattening"
   ]
  },
  {
   "cell_type": "code",
   "execution_count": 21,
   "id": "207f1971",
   "metadata": {},
   "outputs": [],
   "source": [
    "cnn.add(tf.keras.layers.Flatten())"
   ]
  },
  {
   "cell_type": "code",
   "execution_count": 22,
   "id": "4c5bef10",
   "metadata": {},
   "outputs": [],
   "source": [
    "#4. creating Full Connected layer"
   ]
  },
  {
   "cell_type": "code",
   "execution_count": 23,
   "id": "4fd571bc",
   "metadata": {},
   "outputs": [],
   "source": [
    "cnn.add(tf.keras.layers.Dense(units=128, activation='relu'))"
   ]
  },
  {
   "cell_type": "code",
   "execution_count": 24,
   "id": "0a1a9fda",
   "metadata": {},
   "outputs": [],
   "source": [
    "#5. creating Output layer\n",
    "cnn.add(tf.keras.layers.Dense(units=1, activation='sigmoid'))"
   ]
  },
  {
   "cell_type": "markdown",
   "id": "3e285edc",
   "metadata": {},
   "source": [
    "With this we build a Convolutional Neural Network"
   ]
  },
  {
   "cell_type": "markdown",
   "id": "e43de84a",
   "metadata": {},
   "source": [
    "# Training a CNN"
   ]
  },
  {
   "cell_type": "code",
   "execution_count": 25,
   "id": "5c71eab9",
   "metadata": {},
   "outputs": [],
   "source": [
    "#Compiling the Cnn"
   ]
  },
  {
   "cell_type": "code",
   "execution_count": 29,
   "id": "91ceba30",
   "metadata": {},
   "outputs": [],
   "source": [
    "cnn.compile(optimizer = 'adam',loss = 'binary_crossentropy', metrics = ['accuracy'])"
   ]
  },
  {
   "cell_type": "code",
   "execution_count": 30,
   "id": "9f641357",
   "metadata": {},
   "outputs": [],
   "source": [
    "#Training the CNN on training set and evaluating it on the Test Set"
   ]
  },
  {
   "cell_type": "code",
   "execution_count": 31,
   "id": "132d07fb",
   "metadata": {},
   "outputs": [
    {
     "name": "stdout",
     "output_type": "stream",
     "text": [
      "Epoch 1/25\n",
      "250/250 [==============================] - 70s 278ms/step - loss: 0.6692 - accuracy: 0.5909 - val_loss: 0.6144 - val_accuracy: 0.6765\n",
      "Epoch 2/25\n",
      "250/250 [==============================] - 56s 224ms/step - loss: 0.6056 - accuracy: 0.6741 - val_loss: 0.5635 - val_accuracy: 0.7110\n",
      "Epoch 3/25\n",
      "250/250 [==============================] - 77s 307ms/step - loss: 0.5696 - accuracy: 0.7024 - val_loss: 0.5462 - val_accuracy: 0.7275\n",
      "Epoch 4/25\n",
      "250/250 [==============================] - 74s 296ms/step - loss: 0.5288 - accuracy: 0.7324 - val_loss: 0.5534 - val_accuracy: 0.7280\n",
      "Epoch 5/25\n",
      "250/250 [==============================] - 78s 314ms/step - loss: 0.5077 - accuracy: 0.7519 - val_loss: 0.5214 - val_accuracy: 0.7365\n",
      "Epoch 6/25\n",
      "250/250 [==============================] - 77s 309ms/step - loss: 0.4895 - accuracy: 0.7600 - val_loss: 0.4684 - val_accuracy: 0.7745\n",
      "Epoch 7/25\n",
      "250/250 [==============================] - 66s 265ms/step - loss: 0.4630 - accuracy: 0.7788 - val_loss: 0.4685 - val_accuracy: 0.7840\n",
      "Epoch 8/25\n",
      "250/250 [==============================] - 69s 277ms/step - loss: 0.4591 - accuracy: 0.7844 - val_loss: 0.4857 - val_accuracy: 0.7665\n",
      "Epoch 9/25\n",
      "250/250 [==============================] - 67s 266ms/step - loss: 0.4305 - accuracy: 0.7950 - val_loss: 0.4567 - val_accuracy: 0.7850\n",
      "Epoch 10/25\n",
      "250/250 [==============================] - 69s 276ms/step - loss: 0.4261 - accuracy: 0.8004 - val_loss: 0.4748 - val_accuracy: 0.7915\n",
      "Epoch 11/25\n",
      "250/250 [==============================] - 69s 275ms/step - loss: 0.4157 - accuracy: 0.8034 - val_loss: 0.4509 - val_accuracy: 0.7875\n",
      "Epoch 12/25\n",
      "250/250 [==============================] - 70s 282ms/step - loss: 0.4052 - accuracy: 0.8136 - val_loss: 0.4562 - val_accuracy: 0.7965\n",
      "Epoch 13/25\n",
      "250/250 [==============================] - 78s 312ms/step - loss: 0.3875 - accuracy: 0.8231 - val_loss: 0.4351 - val_accuracy: 0.7995\n",
      "Epoch 14/25\n",
      "250/250 [==============================] - 73s 290ms/step - loss: 0.3763 - accuracy: 0.8276 - val_loss: 0.4486 - val_accuracy: 0.7980\n",
      "Epoch 15/25\n",
      "250/250 [==============================] - 73s 292ms/step - loss: 0.3588 - accuracy: 0.8394 - val_loss: 0.4717 - val_accuracy: 0.7900\n",
      "Epoch 16/25\n",
      "250/250 [==============================] - 70s 281ms/step - loss: 0.3479 - accuracy: 0.8460 - val_loss: 0.4734 - val_accuracy: 0.8085\n",
      "Epoch 17/25\n",
      "250/250 [==============================] - 66s 265ms/step - loss: 0.3397 - accuracy: 0.8460 - val_loss: 0.4783 - val_accuracy: 0.8020\n",
      "Epoch 18/25\n",
      "250/250 [==============================] - 72s 287ms/step - loss: 0.3284 - accuracy: 0.8574 - val_loss: 0.4638 - val_accuracy: 0.8005\n",
      "Epoch 19/25\n",
      "250/250 [==============================] - 71s 284ms/step - loss: 0.3173 - accuracy: 0.8581 - val_loss: 0.5091 - val_accuracy: 0.7920\n",
      "Epoch 20/25\n",
      "250/250 [==============================] - 61s 244ms/step - loss: 0.3004 - accuracy: 0.8654 - val_loss: 0.4772 - val_accuracy: 0.7975\n",
      "Epoch 21/25\n",
      "250/250 [==============================] - 66s 264ms/step - loss: 0.2854 - accuracy: 0.8776 - val_loss: 0.5063 - val_accuracy: 0.7980\n",
      "Epoch 22/25\n",
      "250/250 [==============================] - 64s 256ms/step - loss: 0.2808 - accuracy: 0.8811 - val_loss: 0.5862 - val_accuracy: 0.7850\n",
      "Epoch 23/25\n",
      "250/250 [==============================] - 64s 258ms/step - loss: 0.2543 - accuracy: 0.8923 - val_loss: 0.5009 - val_accuracy: 0.8040\n",
      "Epoch 24/25\n",
      "250/250 [==============================] - 64s 256ms/step - loss: 0.2561 - accuracy: 0.8930 - val_loss: 0.4939 - val_accuracy: 0.7970\n",
      "Epoch 25/25\n",
      "250/250 [==============================] - 67s 268ms/step - loss: 0.2462 - accuracy: 0.8974 - val_loss: 0.5562 - val_accuracy: 0.7835\n"
     ]
    },
    {
     "data": {
      "text/plain": [
       "<keras.callbacks.History at 0x245496957c0>"
      ]
     },
     "execution_count": 31,
     "metadata": {},
     "output_type": "execute_result"
    }
   ],
   "source": [
    "cnn.fit(x = training_set, validation_data = test_set, epochs = 25)"
   ]
  },
  {
   "cell_type": "markdown",
   "id": "7263de4f",
   "metadata": {},
   "source": [
    "# Making single predictions\n"
   ]
  },
  {
   "cell_type": "code",
   "execution_count": null,
   "id": "d9114bfc",
   "metadata": {},
   "outputs": [],
   "source": [
    "from keras.preprocessing import image\n"
   ]
  },
  {
   "cell_type": "code",
   "execution_count": 37,
   "id": "1ea10848",
   "metadata": {},
   "outputs": [
    {
     "name": "stdout",
     "output_type": "stream",
     "text": [
      "1/1 [==============================] - 0s 19ms/step\n"
     ]
    }
   ],
   "source": [
    "test_image = tf.keras.utils.load_img('dataset/single_prediction/cat_or_dog_1.jpg', target_size=(64,64))\n",
    "#as the predict method expects its input as 2D array,so the pli format of the image will not be accepted\n",
    "#So we use image to array\n",
    "test_image = tf.keras.utils.img_to_array(test_image)\n",
    "test_image = np.expand_dims(test_image, axis = 0)\n",
    "#now the predictions will accept the test_image\n",
    "result = cnn.predict(test_image/255.0)"
   ]
  },
  {
   "cell_type": "code",
   "execution_count": null,
   "id": "eec8a83b",
   "metadata": {},
   "outputs": [],
   "source": [
    "#Now to do some encoding work i.e to set if 0 is cat or dog or 1 is a cat or a dog"
   ]
  },
  {
   "cell_type": "code",
   "execution_count": 36,
   "id": "9534ff78",
   "metadata": {},
   "outputs": [],
   "source": [
    "training_set.class_indices\n",
    "#here result contains the result as batch because it was called on a test image that was into a batch\n",
    "#-we write result[0] because it enables us to get access to the batch\n",
    "#the first and only element of the batch that corresponds to the single image i.e iscat_or_dog1 image\n",
    "#-we are dealing with a single image and so a single prediction\n",
    "#so to do this we write code as shown below:\n",
    "if result[0][0] > 0.5:\n",
    "    prediction = 'DOG'\n",
    "else:\n",
    "    prediction = 'CAT'"
   ]
  },
  {
   "cell_type": "code",
   "execution_count": 38,
   "id": "0dabe54e",
   "metadata": {},
   "outputs": [
    {
     "name": "stdout",
     "output_type": "stream",
     "text": [
      "DOG\n"
     ]
    }
   ],
   "source": [
    "print(prediction)"
   ]
  },
  {
   "cell_type": "code",
   "execution_count": 39,
   "id": "bd3e4719",
   "metadata": {},
   "outputs": [],
   "source": [
    "#This gives us the correct output as the image cat_or_dog_1 was a picture of a dog\n",
    "\n"
   ]
  },
  {
   "cell_type": "code",
   "execution_count": 40,
   "id": "41e84222",
   "metadata": {},
   "outputs": [],
   "source": [
    "#Now lets test for a different image"
   ]
  },
  {
   "cell_type": "code",
   "execution_count": 41,
   "id": "2a704572",
   "metadata": {},
   "outputs": [
    {
     "name": "stdout",
     "output_type": "stream",
     "text": [
      "1/1 [==============================] - 0s 30ms/step\n"
     ]
    }
   ],
   "source": [
    "test_image = tf.keras.utils.load_img('dataset/single_prediction/cat_or_dog_2.jpg', target_size=(64,64))\n",
    "\n",
    "test_image = tf.keras.utils.img_to_array(test_image)\n",
    "test_image = np.expand_dims(test_image, axis = 0)\n",
    "\n",
    "result = cnn.predict(test_image/255.0)"
   ]
  },
  {
   "cell_type": "code",
   "execution_count": 42,
   "id": "b1ec0191",
   "metadata": {},
   "outputs": [],
   "source": [
    "training_set.class_indices\n",
    "if result[0][0] > 0.5:\n",
    "    prediction = 'DOG'\n",
    "else:\n",
    "    prediction = 'CAT'"
   ]
  },
  {
   "cell_type": "code",
   "execution_count": 43,
   "id": "9c514462",
   "metadata": {},
   "outputs": [
    {
     "name": "stdout",
     "output_type": "stream",
     "text": [
      "CAT\n"
     ]
    }
   ],
   "source": [
    "print(prediction)"
   ]
  },
  {
   "cell_type": "code",
   "execution_count": null,
   "id": "90ab94d6",
   "metadata": {},
   "outputs": [],
   "source": [
    "#This gives us the correct output as the image cat_or_dog_1 was a picture of a dog\n"
   ]
  },
  {
   "cell_type": "code",
   "execution_count": 50,
   "id": "1f519808",
   "metadata": {},
   "outputs": [
    {
     "name": "stdout",
     "output_type": "stream",
     "text": [
      "1/1 [==============================] - 0s 21ms/step\n"
     ]
    }
   ],
   "source": [
    "test_image = tf.keras.utils.load_img('dataset/single_prediction/cat_or_dog_3.jpg', target_size=(64,64))\n",
    "\n",
    "test_image = tf.keras.utils.img_to_array(test_image)\n",
    "test_image = np.expand_dims(test_image, axis = 0)\n",
    "\n",
    "result = cnn.predict(test_image/255.0)"
   ]
  },
  {
   "cell_type": "code",
   "execution_count": 51,
   "id": "993730a3",
   "metadata": {},
   "outputs": [],
   "source": [
    "training_set.class_indices\n",
    "if result[0][0] > 0.5:\n",
    "    prediction = 'DOG'\n",
    "else:\n",
    "    prediction = 'CAT'"
   ]
  },
  {
   "cell_type": "code",
   "execution_count": 52,
   "id": "e6573fa3",
   "metadata": {},
   "outputs": [
    {
     "name": "stdout",
     "output_type": "stream",
     "text": [
      "DOG\n"
     ]
    }
   ],
   "source": [
    "print(prediction)"
   ]
  },
  {
   "cell_type": "code",
   "execution_count": null,
   "id": "c5b36cc1",
   "metadata": {},
   "outputs": [],
   "source": [
    "#Hence we have successfully build a CNN for categorizing between a picture of a cat or a dog with 78% accuracy"
   ]
  }
 ],
 "metadata": {
  "kernelspec": {
   "display_name": "Python 3 (ipykernel)",
   "language": "python",
   "name": "python3"
  },
  "language_info": {
   "codemirror_mode": {
    "name": "ipython",
    "version": 3
   },
   "file_extension": ".py",
   "mimetype": "text/x-python",
   "name": "python",
   "nbconvert_exporter": "python",
   "pygments_lexer": "ipython3",
   "version": "3.9.7"
  }
 },
 "nbformat": 4,
 "nbformat_minor": 5
}
